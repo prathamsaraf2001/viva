{
 "cells": [
  {
   "cell_type": "code",
   "execution_count": 1,
   "metadata": {},
   "outputs": [],
   "source": [
    "%matplotlib inline\n",
    "\n",
    "import os\n",
    "import sys\n",
    "import shutil\n",
    "import copy\n",
    "import time\n",
    "import pickle\n",
    "# import multiprocessing as mp\n",
    "import numpy as np\n",
    "import matplotlib.pyplot as plt\n",
    "from tqdm import trange\n",
    "\n",
    "# from lib.vrp_helper_legacy import random_vrptw\n",
    "from lib.vrp_helper_0 import random_vrptw\n",
    "from lib.vrp_helper_0 import check_vrp_route_validity, check_vrp_routes_validity\n",
    "from lib.vrp_helper_1 import get_distMat, get_inbalance_distMat, get_solDist\n",
    "from lib.vrp_helper_1 import parse_vrp_question, parse_vrp_answer, getQADict\n",
    "\n",
    "import os.path\n",
    "import subprocess\n",
    "from subprocess import STDOUT,PIPE\n",
    "\n",
    "############################################################\n",
    "# 与 Java 交换数据相关的函数\n",
    "\n",
    "def write_data_file(data, path=\"data.txt\"):\n",
    "    lines = []\n",
    "    for i in range(data.shape[0]):\n",
    "        lines.append(\" \".join([str(x) for x in data[i]])+\"\\n\")\n",
    "    with open(path, \"w+\") as f:\n",
    "        for line in lines:\n",
    "            f.write(line)\n",
    "\n",
    "def compile_java(java_file):\n",
    "    subprocess.check_call(['javac', java_file])\n",
    "\n",
    "def execute_java(java_file, stdin):\n",
    "    java_class,ext = os.path.splitext(java_file)\n",
    "    cmd = ['java', java_class]+stdin\n",
    "    proc = subprocess.Popen(cmd, stdin=PIPE, stdout=PIPE, stderr=STDOUT)\n",
    "    stdout,stderr = proc.communicate(\"\".encode())\n",
    "    return stdout.decode()\n",
    "\n",
    "def parse_output(_output):\n",
    "    dist, routes = _output.split(\":\")\n",
    "    dist = float(dist)\n",
    "    routes = [[int(y) for y in x.split(\",\")] for x in routes.split(\";\")]\n",
    "    return dist, routes\n",
    "\n",
    "def vrp_java(java_file, stdin):\n",
    "    \n",
    "    def compile_java(java_file):\n",
    "        subprocess.check_call(['javac', java_file])\n",
    "    \n",
    "    def execute_java(java_file, stdin):\n",
    "        java_class,ext = os.path.splitext(java_file)\n",
    "        cmd = ['java', java_class]+stdin\n",
    "        proc = subprocess.Popen(cmd, stdin=PIPE, stdout=PIPE, stderr=STDOUT)\n",
    "        stdout,stderr = proc.communicate(\"\".encode())\n",
    "        return stdout.decode()\n",
    "    \n",
    "    def parse_output(_output):\n",
    "        dist, routes = _output.split(\":\")\n",
    "        dist = float(dist)\n",
    "        routes = [[int(y) for y in x.split(\",\")] for x in routes.split(\";\")]\n",
    "        return dist, routes\n",
    "    \n",
    "    compile_java(java_file)\n",
    "    _output = execute_java(java_file, stdin)\n",
    "    return parse_output(_output)"
   ]
  },
  {
   "cell_type": "code",
   "execution_count": 9,
   "metadata": {},
   "outputs": [
    {
     "name": "stdout",
     "output_type": "stream",
     "text": [
      "71.35820984840393 505.8462108694568 [[41, 39, 38, 37, 35, 36, 40, 43, 44, 42, 2, 7, 8, 46, 45, 5, 3, 1, 4, 6, 17, 13, 10], [12, 14, 47, 16, 15, 11, 9, 22, 49, 19, 21, 23, 25, 48, 18, 33, 32, 30, 31, 29, 27, 26, 28, 34, 50, 20, 24]]\n"
     ]
    },
    {
     "data": {
      "text/plain": [
       "True"
      ]
     },
     "execution_count": 9,
     "metadata": {},
     "output_type": "execute_result"
    }
   ],
   "source": [
    "n_iter = 1e6\n",
    "start_time = time.time()\n",
    "cap, data = parse_vrp_question(\"data/solomon_100/rc208.txt\")\n",
    "data = data[:51]\n",
    "write_data_file(data, path=\"data.txt\")\n",
    "args = [os.path.abspath(os.getcwd())+\"/data.txt\", str(cap), str(int(n_iter))]\n",
    "dist, routes = vrp_java('java_solverSISR.java', args)\n",
    "print(time.time()-start_time, dist, routes)\n",
    "check_vrp_routes_validity(cap, data, routes)"
   ]
  },
  {
   "cell_type": "code",
   "execution_count": null,
   "metadata": {},
   "outputs": [],
   "source": []
  }
 ],
 "metadata": {
  "kernelspec": {
   "display_name": "Python [conda env:py37_torch] *",
   "language": "python",
   "name": "conda-env-py37_torch-py"
  },
  "language_info": {
   "codemirror_mode": {
    "name": "ipython",
    "version": 3
   },
   "file_extension": ".py",
   "mimetype": "text/x-python",
   "name": "python",
   "nbconvert_exporter": "python",
   "pygments_lexer": "ipython3",
   "version": "3.7.6"
  }
 },
 "nbformat": 4,
 "nbformat_minor": 4
}
