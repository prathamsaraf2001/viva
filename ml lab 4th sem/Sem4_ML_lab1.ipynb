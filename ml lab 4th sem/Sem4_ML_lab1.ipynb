{
 "cells": [
  {
   "cell_type": "code",
   "execution_count": 1,
   "metadata": {
    "collapsed": true,
    "id": "VBXdf3tSJOWU"
   },
   "outputs": [],
   "source": [
    "# EXP1: to evaluate covarience matrix, find eigen values and evaluate eigen vectors."
   ]
  },
  {
   "cell_type": "code",
   "execution_count": 2,
   "metadata": {
    "collapsed": true,
    "id": "5MbUPeIaJ7ib"
   },
   "outputs": [],
   "source": [
    "import numpy as np"
   ]
  },
  {
   "cell_type": "code",
   "execution_count": 3,
   "metadata": {
    "collapsed": true,
    "id": "JIxSbKlaKZ09"
   },
   "outputs": [],
   "source": [
    "A = [45, 37, 42, 35, 39]\n",
    "B = [38, 31, 26, 28, 33]\n",
    "C = [10, 15, 17, 21, 12]"
   ]
  },
  {
   "cell_type": "code",
   "execution_count": 4,
   "metadata": {
    "collapsed": true,
    "id": "2HJNuLAzLCwG"
   },
   "outputs": [],
   "source": [
    "data = np.array([A, B, C])"
   ]
  },
  {
   "cell_type": "code",
   "execution_count": 5,
   "metadata": {
    "colab": {
     "base_uri": "https://localhost:8080/"
    },
    "collapsed": true,
    "id": "i_yOWsYULNkZ",
    "outputId": "1f87c7cb-ccd4-49b6-c2bb-1962ffc7e9f3"
   },
   "outputs": [
    {
     "data": {
      "text/plain": [
       "array([[45, 37, 42, 35, 39],\n",
       "       [38, 31, 26, 28, 33],\n",
       "       [10, 15, 17, 21, 12]])"
      ]
     },
     "execution_count": 5,
     "metadata": {},
     "output_type": "execute_result"
    }
   ],
   "source": [
    "data"
   ]
  },
  {
   "cell_type": "code",
   "execution_count": 6,
   "metadata": {
    "collapsed": true,
    "id": "FNPLB9R4LQW9"
   },
   "outputs": [],
   "source": [
    "covMatrix = np.cov(data, bias = True)"
   ]
  },
  {
   "cell_type": "markdown",
   "metadata": {
    "id": "0YNRiqlrMjyP"
   },
   "source": [
    "used for populations and huge datasets"
   ]
  },
  {
   "cell_type": "code",
   "execution_count": 7,
   "metadata": {
    "colab": {
     "base_uri": "https://localhost:8080/"
    },
    "collapsed": true,
    "id": "XySj-WVjLpYy",
    "outputId": "7283bfd3-3731-459b-b46f-bdcc0cb0372e"
   },
   "outputs": [
    {
     "name": "stdout",
     "output_type": "stream",
     "text": [
      "[[ 12.64   7.68  -9.6 ]\n",
      " [  7.68  17.36 -13.8 ]\n",
      " [ -9.6  -13.8   14.8 ]]\n"
     ]
    }
   ],
   "source": [
    "print(covMatrix)"
   ]
  },
  {
   "cell_type": "code",
   "execution_count": 8,
   "metadata": {
    "collapsed": true,
    "id": "cqxgxwgML3ad"
   },
   "outputs": [],
   "source": [
    "covMatrix = np.cov(data, bias = False)"
   ]
  },
  {
   "cell_type": "markdown",
   "metadata": {
    "id": "p66e28EAMoDn"
   },
   "source": [
    "used for samaple space and comparatively small datasets"
   ]
  },
  {
   "cell_type": "code",
   "execution_count": 9,
   "metadata": {
    "colab": {
     "base_uri": "https://localhost:8080/"
    },
    "collapsed": true,
    "id": "9eiSRIvpL9mx",
    "outputId": "d81a44c4-9215-443e-c3db-bdd2e116c2af"
   },
   "outputs": [
    {
     "name": "stdout",
     "output_type": "stream",
     "text": [
      "[[ 15.8    9.6  -12.  ]\n",
      " [  9.6   21.7  -17.25]\n",
      " [-12.   -17.25  18.5 ]]\n"
     ]
    }
   ],
   "source": [
    "    print(covMatrix)"
   ]
  },
  {
   "cell_type": "code",
   "execution_count": 10,
   "metadata": {
    "collapsed": true,
    "id": "MBmmRrXCMMbo"
   },
   "outputs": [],
   "source": [
    "import seaborn as sn\n",
    "import matplotlib.pyplot as plt\n"
   ]
  },
  {
   "cell_type": "code",
   "execution_count": 15,
   "metadata": {
    "collapsed": true,
    "id": "CEdVIr85NL2N"
   },
   "outputs": [
    {
     "name": "stdout",
     "output_type": "stream",
     "text": [
      "[[ 12.64   7.68  -9.6 ]\n",
      " [  7.68  17.36 -13.8 ]\n",
      " [ -9.6  -13.8   14.8 ]]\n"
     ]
    }
   ],
   "source": [
    "covMatrix = np.cov(data, bias = True)\n",
    "print(covMatrix)"
   ]
  },
  {
   "cell_type": "code",
   "execution_count": 12,
   "metadata": {
    "colab": {
     "base_uri": "https://localhost:8080/",
     "height": 283
    },
    "collapsed": true,
    "id": "Mf3CSfy4NTye",
    "outputId": "687c4b33-5560-4a2b-e43f-378ca8f088fc"
   },
   "outputs": [
    {
     "data": {
      "text/plain": [
       "<AxesSubplot:>"
      ]
     },
     "execution_count": 12,
     "metadata": {},
     "output_type": "execute_result"
    },
    {
     "data": {
      "image/png": "[encoded data removed]",
      "text/plain": [
       "<Figure size 432x288 with 2 Axes>"
      ]
     },
     "metadata": {
      "needs_background": "light"
     },
     "output_type": "display_data"
    }
   ],
   "source": [
    "sn.heatmap(covMatrix, annot = True, fmt = 'f')"
   ]
  },
  {
   "cell_type": "code",
   "execution_count": 13,
   "metadata": {
    "collapsed": true,
    "id": "L3KFlkEUNy5g"
   },
   "outputs": [],
   "source": [
    "covMatrix = np.cov(data, bias = False)"
   ]
  },
  {
   "cell_type": "code",
   "execution_count": 14,
   "metadata": {
    "colab": {
     "base_uri": "https://localhost:8080/",
     "height": 283
    },
    "collapsed": true,
    "id": "MNJM-RQ4OWEA",
    "outputId": "c38ce2cf-4b00-44ff-82b8-a5a850e4e825"
   },
   "outputs": [
    {
     "data": {
      "text/plain": [
       "<AxesSubplot:>"
      ]
     },
     "execution_count": 14,
     "metadata": {},
     "output_type": "execute_result"
    },
    {
     "data": {
      "image/png": "[encoded data removed]",
      "text/plain": [
       "<Figure size 432x288 with 2 Axes>"
      ]
     },
     "metadata": {
      "needs_background": "light"
     },
     "output_type": "display_data"
    }
   ],
   "source": [
    "sn.heatmap(covMatrix, annot = False, fmt = 'r')"
   ]
  },
  {
   "cell_type": "code",
   "execution_count": null,
   "metadata": {
    "collapsed": true,
    "id": "WnxqDj3mWW9O"
   },
   "outputs": [],
   "source": []
  },
  {
   "cell_type": "code",
   "execution_count": 17,
   "metadata": {
    "collapsed": true,
    "id": "xPFW943rOiSd"
   },
   "outputs": [],
   "source": [
    "# eigen values and eigen vectors"
   ]
  },
  {
   "cell_type": "code",
   "execution_count": 18,
   "metadata": {
    "collapsed": true,
    "id": "IEBCaCSpO4mK"
   },
   "outputs": [],
   "source": [
    "from numpy.linalg import eig"
   ]
  },
  {
   "cell_type": "code",
   "execution_count": 20,
   "metadata": {
    "collapsed": true,
    "id": "-xbk2sJvPHix"
   },
   "outputs": [],
   "source": [
    "a = np.array([[0, 2], [2, 3]])"
   ]
  },
  {
   "cell_type": "code",
   "execution_count": 21,
   "metadata": {
    "collapsed": true,
    "id": "t3UhzJ3tPZb1"
   },
   "outputs": [],
   "source": [
    "w, v= eig(a)"
   ]
  },
  {
   "cell_type": "code",
   "execution_count": null,
   "metadata": {
    "collapsed": true,
    "id": "CuXnpg_kQE5C"
   },
   "outputs": [],
   "source": []
  },
  {
   "cell_type": "code",
   "execution_count": 22,
   "metadata": {
    "colab": {
     "base_uri": "https://localhost:8080/"
    },
    "collapsed": true,
    "id": "fw9C20XmPdqo",
    "outputId": "65452b36-1d02-4560-ce11-ba798195c086"
   },
   "outputs": [
    {
     "name": "stdout",
     "output_type": "stream",
     "text": [
      "[-1.  4.]\n",
      "[[-0.89442719 -0.4472136 ]\n",
      " [ 0.4472136  -0.89442719]]\n"
     ]
    }
   ],
   "source": [
    "print(w)\n",
    "print(v)"
   ]
  },
  {
   "cell_type": "code",
   "execution_count": 23,
   "metadata": {
    "colab": {
     "base_uri": "https://localhost:8080/"
    },
    "collapsed": true,
    "id": "mzmIKIWUPlrQ",
    "outputId": "97b27c7e-e99a-41eb-c78a-b4b05da27830"
   },
   "outputs": [
    {
     "name": "stdout",
     "output_type": "stream",
     "text": [
      "E-value: [-1.  4.]\n",
      "E=vector: [[-0.89442719 -0.4472136 ]\n",
      " [ 0.4472136  -0.89442719]]\n"
     ]
    }
   ],
   "source": [
    "print('E-value:', w)\n",
    "print('E=vector:', v)"
   ]
  },
  {
   "cell_type": "code",
   "execution_count": 24,
   "metadata": {
    "collapsed": true,
    "id": "mfvtKBfiP1hz"
   },
   "outputs": [],
   "source": [
    "    a = np.array([[0, 2, 3], [2, 3, 5], [3, 5, 6]])"
   ]
  },
  {
   "cell_type": "code",
   "execution_count": 25,
   "metadata": {
    "collapsed": true,
    "id": "CdgGlnPhQFxM"
   },
   "outputs": [],
   "source": [
    "w, v= eig(a)"
   ]
  },
  {
   "cell_type": "code",
   "execution_count": 26,
   "metadata": {
    "colab": {
     "base_uri": "https://localhost:8080/"
    },
    "collapsed": true,
    "id": "XzYmW0ouQHgD",
    "outputId": "29a4516a-7d28-4d03-dbcc-48337b49ce83"
   },
   "outputs": [
    {
     "name": "stdout",
     "output_type": "stream",
     "text": [
      "E-value: [10.90897874 -1.24781764 -0.6611611 ]\n",
      "E=vector: [[ 0.31351175  0.90082516  0.30037379]\n",
      " [ 0.56280048  0.07850569 -0.82285629]\n",
      " [ 0.7648307  -0.42702563  0.48237237]]\n"
     ]
    }
   ],
   "source": [
    "print('E-value:', w)\n",
    "print('E=vector:', v)"
   ]
  },
  {
   "cell_type": "code",
   "execution_count": 27,
   "metadata": {
    "collapsed": true,
    "id": "hqgNxXqLQZtK"
   },
   "outputs": [],
   "source": [
    "heatmap = np.cov(v, bias = True)"
   ]
  },
  {
   "cell_type": "code",
   "execution_count": 31,
   "metadata": {
    "colab": {
     "base_uri": "https://localhost:8080/",
     "height": 283
    },
    "collapsed": true,
    "id": "TTAaYMjcWXnh",
    "outputId": "5a9222fb-111d-4905-ca36-b9f348f6ec91"
   },
   "outputs": [
    {
     "data": {
      "text/plain": [
       "<matplotlib.axes._subplots.AxesSubplot at 0x7f3523c93ed0>"
      ]
     },
     "execution_count": 31,
     "metadata": {},
     "output_type": "execute_result"
    },
    {
     "data": {
      "image/png": "[encoded data removed]",
      "text/plain": [
       "<Figure size 432x288 with 2 Axes>"
      ]
     },
     "metadata": {
      "needs_background": "light"
     },
     "output_type": "display_data"
    }
   ],
   "source": [
    "sn.heatmap(v, annot = True, fmt = 'f')"
   ]
  },
  {
   "cell_type": "code",
   "execution_count": 32,
   "metadata": {
    "colab": {
     "base_uri": "https://localhost:8080/",
     "height": 283
    },
    "collapsed": true,
    "id": "wtxMwlWMXYcm",
    "outputId": "572f2acf-c626-458e-8161-362eabca7ef1"
   },
   "outputs": [
    {
     "data": {
      "text/plain": [
       "<matplotlib.axes._subplots.AxesSubplot at 0x7f3523c903d0>"
      ]
     },
     "execution_count": 32,
     "metadata": {},
     "output_type": "execute_result"
    },
    {
     "data": {
      "image/png": "[encoded data removed]",
      "text/plain": [
       "<Figure size 432x288 with 2 Axes>"
      ]
     },
     "metadata": {
      "needs_background": "light"
     },
     "output_type": "display_data"
    }
   ],
   "source": [
    "sn.heatmap(v, annot = True, fmt = 'g')"
   ]
  }
 ],
 "metadata": {
  "colab": {
   "name": "Sem4_ML_lab1.ipynb",
   "provenance": []
  },
  "kernelspec": {
   "display_name": "Python 3",
   "language": "python",
   "name": "python3"
  },
  "language_info": {
   "codemirror_mode": {
    "name": "ipython",
    "version": 3
   },
   "file_extension": ".py",
   "mimetype": "text/x-python",
   "name": "python",
   "nbconvert_exporter": "python",
   "pygments_lexer": "ipython3",
   "version": "3.8.8"
  }
 },
 "nbformat": 4,
 "nbformat_minor": 1
}
