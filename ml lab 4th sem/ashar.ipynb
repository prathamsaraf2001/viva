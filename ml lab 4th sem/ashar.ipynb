{
 "cells": [
  {
   "cell_type": "code",
   "execution_count": null,
   "id": "40bddc5f",
   "metadata": {},
   "outputs": [],
   "source": [
    "import pandas as pd\n",
    "import numpy as np\n",
    "import matplotlib.pyplot as plt\n",
    "import seaborn as sns\n",
    "%matplotlib inline \n",
    "from sklearn import preprocessing\n",
    "#for encoding\n",
    "from sklearn.preprocessing import LabelEncoder#for train test splitting\n",
    "from sklearn.model_selection import train_test_split#for decision tree object\n",
    "from sklearn.tree import DecisionTreeClassifier#for checking testing results\n",
    "from sklearn.metrics import classification_report, confusion_matrix#for visualizing tree \n",
    "from sklearn.tree import plot_tree"
   ]
  },
  {
   "cell_type": "code",
   "execution_count": null,
   "id": "b9b79569",
   "metadata": {},
   "outputs": [],
   "source": [
    "data = pd.read_csv('adult.csv')\n",
    "data\n",
    "data.columns = ['Age','Type','id','EDu','Exp','m-status','post','family','color','gender','d1','d2','d3','state','salary']\n",
    "data"
   ]
  },
  {
   "cell_type": "code",
   "execution_count": null,
   "id": "c049d6be",
   "metadata": {},
   "outputs": [],
   "source": [
    "target = data.iloc[:,14]\n",
    "le = LabelEncoder()\n",
    "target = le.fit_transform(target)\n",
    "y=target"
   ]
  },
  {
   "cell_type": "code",
   "execution_count": null,
   "id": "c609a515",
   "metadata": {},
   "outputs": [],
   "source": [
    "# X = data.iloc[:,[0,1,2,3,4,5,6,7,8,9,10,11,12,13]]\n",
    "data = data.drop(['id','d1','d2','d3','salary'],axis=1)\n",
    "data\n",
    "le = preprocessing.LabelEncoder()\n",
    "data = data[['Type', 'EDu','EDu','m-status','Exp','post','family','color','gender','state']].apply(le.fit_transform)\n",
    "X=data"
   ]
  },
  {
   "cell_type": "code",
   "execution_count": null,
   "id": "2028c03f",
   "metadata": {},
   "outputs": [],
   "source": []
  },
  {
   "cell_type": "code",
   "execution_count": null,
   "id": "4c35d21a",
   "metadata": {},
   "outputs": [],
   "source": [
    "X_train, X_test, y_train, y_test = train_test_split(X , y, test_size = 0.2, random_state = 42)\n",
    "print(\"Training split input- \", X_train.shape)\n",
    "print(\"Testing split input- \", X_test.shape)"
   ]
  },
  {
   "cell_type": "code",
   "execution_count": null,
   "id": "f4fefc10",
   "metadata": {},
   "outputs": [],
   "source": [
    "dtree=DecisionTreeClassifier()\n",
    "dtree.fit(X_train,y_train)\n",
    "print('Decision Tree Classifier Created')"
   ]
  },
  {
   "cell_type": "code",
   "execution_count": null,
   "id": "9c5567a1",
   "metadata": {},
   "outputs": [],
   "source": [
    "y_pred = dtree.predict(X_test)\n",
    "print(\"Classification report - \\n\", classification_report(y_test,y_pred))"
   ]
  },
  {
   "cell_type": "code",
   "execution_count": null,
   "id": "9777057f",
   "metadata": {},
   "outputs": [],
   "source": [
    "cm = confusion_matrix(y_test, y_pred)\n",
    "plt.figure(figsize=(5,5))\n",
    "sns.heatmap(data=cm,linewidths=.5, annot=True,square = True,  cmap = 'Blues')\n",
    "plt.ylabel('Actual label')\n",
    "plt.xlabel('Predicted label')\n",
    "all_sample_title = 'Accuracy Score: {0}'.format(dtree.score(X_test, y_test))\n",
    "plt.title(all_sample_title, size = 15)"
   ]
  },
  {
   "cell_type": "code",
   "execution_count": null,
   "id": "56028600",
   "metadata": {},
   "outputs": [],
   "source": [
    "plt.figure(figsize = (40,40))\n",
    "dec_tree = plot_tree(decision_tree=dtree, feature_names = X.columns, \n",
    "                     class_names =['above 50k','below 50k'] , filled = True , \n",
    "                      precision = 4, rounded = True)"
   ]
  },
  {
   "cell_type": "code",
   "execution_count": null,
   "id": "e147d2dc",
   "metadata": {},
   "outputs": [],
   "source": []
  },
  {
   "cell_type": "code",
   "execution_count": null,
   "id": "5c76e71e",
   "metadata": {},
   "outputs": [],
   "source": []
  }
 ],
 "metadata": {
  "kernelspec": {
   "display_name": "Python 3",
   "language": "python",
   "name": "python3"
  },
  "language_info": {
   "codemirror_mode": {
    "name": "ipython",
    "version": 3
   },
   "file_extension": ".py",
   "mimetype": "text/x-python",
   "name": "python",
   "nbconvert_exporter": "python",
   "pygments_lexer": "ipython3",
   "version": "3.8.8"
  }
 },
 "nbformat": 4,
 "nbformat_minor": 5
}
